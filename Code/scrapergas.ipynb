{
 "cells": [
  {
   "cell_type": "code",
   "execution_count": 1,
   "metadata": {},
   "outputs": [],
   "source": [
    "import requests\n",
    "from bs4 import BeautifulSoup\n",
    "import pandas as pd\n",
    "import os\n",
    "\n",
    "# The URL of the website you want to scrape\n",
    "url = 'https://www.tppd.com.tr/gecmis-akaryakit-fiyatlari?id=7&county=72&StartDate=01.01.2011&EndDate=28.03.2024'\n",
    "\n",
    "# Send a GET request to the website\n",
    "response = requests.get(url)\n",
    "\n",
    "# Initialize an empty list to store row data\n",
    "data_rows = []\n",
    "\n",
    "# Check if the request was successful\n",
    "if response.status_code == 200:\n",
    "    # Parse the HTML content of the page\n",
    "    soup = BeautifulSoup(response.text, 'html.parser')\n",
    "    \n",
    "    # Find all table rows (`tr` elements) with data\n",
    "    # Assuming each `tr` element you're interested in has at least one `td` with a `data-title`\n",
    "    table_rows = soup.find_all('tr')\n",
    "    \n",
    "    for tr in table_rows:\n",
    "        # For each row, find all `td` elements\n",
    "        tds = tr.find_all('td', {'data-title': True})\n",
    "        if not tds:\n",
    "            continue  # Skip rows without the data-title attribute\n",
    "        \n",
    "        # Extract data-title and text for each `td`\n",
    "        row_data = {td['data-title']: td.text.strip().replace(',', '.') for td in tds}\n",
    "        data_rows.append(row_data)\n",
    "    \n",
    "    # Convert the list of dictionaries to a pandas DataFrame\n",
    "    df = pd.DataFrame(data_rows)\n",
    "    \n",
    "    # Check if DataFrame is not empty\n",
    "else:\n",
    "    print(f\"Failed to retrieve data. Status code: {response.status_code}\")\n"
   ]
  },
  {
   "cell_type": "code",
   "execution_count": 2,
   "metadata": {},
   "outputs": [
    {
     "data": {
      "text/plain": [
       "[<td data-title=\"TARİH\">23 Mart 2024</td>,\n",
       " <td class=\"numeric\" data-title=\"KURŞUNSUZ BENZİN (TL/LT)\">\n",
       " 44,92                                    </td>,\n",
       " <td class=\"numeric\" data-title=\"GAZ YAĞI (TL/LT)\">\n",
       " 35,81                                    </td>,\n",
       " <td class=\"numeric\" data-title=\"TP MOTORİN (TL/LT)\">\n",
       " 43,59                                    </td>,\n",
       " <td class=\"numeric\" data-title=\"MOTORİN (TL/LT)\">\n",
       " 43,54                                    </td>,\n",
       " <td class=\"numeric\" data-title=\"KALORİFER YAKITI (TL/KG)\">\n",
       " 31,83                                    </td>,\n",
       " <td class=\"numeric\" data-title=\"FUEL OIL (TL/KG)\">\n",
       " 27,51                                    </td>,\n",
       " <td class=\"numeric\" data-title=\"Y.K. FUEL OIL (TL/KG)\">\n",
       " 23,42                                    </td>,\n",
       " <td class=\"numeric\" data-title=\"TPGAZ\">\n",
       " 22,21                                    </td>]"
      ]
     },
     "execution_count": 2,
     "metadata": {},
     "output_type": "execute_result"
    }
   ],
   "source": [
    "tds"
   ]
  },
  {
   "cell_type": "code",
   "execution_count": 3,
   "metadata": {},
   "outputs": [
    {
     "name": "stdout",
     "output_type": "stream",
     "text": [
      "Data saved to scraped_gasdata.csv successfully.\n"
     ]
    }
   ],
   "source": [
    "\n",
    "os.chdir('/Users/arifakkan/Downloads')\n",
    "if not df.empty:\n",
    "        # Specify the filename you want to save the Excel file as\n",
    "        excel_filename = 'scraped_gasdata.csv'\n",
    "        \n",
    "        # Save the DataFrame to an Excel file\n",
    "        df.to_csv(excel_filename, index=False)\n",
    "        \n",
    "        print(f\"Data saved to {excel_filename} successfully.\")\n",
    "else:\n",
    "        print(\"No data was found to save.\")"
   ]
  }
 ],
 "metadata": {
  "kernelspec": {
   "display_name": "Webscraping",
   "language": "python",
   "name": "python3"
  },
  "language_info": {
   "codemirror_mode": {
    "name": "ipython",
    "version": 3
   },
   "file_extension": ".py",
   "mimetype": "text/x-python",
   "name": "python",
   "nbconvert_exporter": "python",
   "pygments_lexer": "ipython3",
   "version": "3.10.13"
  }
 },
 "nbformat": 4,
 "nbformat_minor": 2
}
